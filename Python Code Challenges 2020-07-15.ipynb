{
 "cells": [
  {
   "cell_type": "markdown",
   "metadata": {},
   "source": [
    "1. Create a factor called get_prime_factors() that returns the prime factors as a number"
   ]
  },
  {
   "cell_type": "code",
   "execution_count": 6,
   "metadata": {},
   "outputs": [
    {
     "data": {
      "text/plain": [
       "[3, 3, 3, 5, 7, 2179, 3253, 148469]"
      ]
     },
     "execution_count": 6,
     "metadata": {},
     "output_type": "execute_result"
    }
   ],
   "source": [
    "# how far I got before getting answer\n",
    "\n",
    "# def get_prime_factors(n:int)->int:\n",
    "#     factors = []\n",
    "#     for i in n:\n",
    "#         if n % 2 == 0:\n",
    "#             n = n/2\n",
    "#             factors.append(2)\n",
    "#         elif break\n",
    "#     if n % 3 == 0:\n",
    "#         n = n/3\n",
    "#         factors.append(3)\n",
    "#     if n % 5 == 0:\n",
    "#         n = n/5\n",
    "#         factors.append(5)\n",
    "#     if n % 7 == 0:\n",
    "#         n = n/7\n",
    "#         factors.append(7)\n",
    "#     return factors\n",
    "    \n",
    "# get_prime_factors(100)\n",
    "    \n",
    "    \n",
    "# solution  \n",
    "def get_prime_factors(n:int)->int:\n",
    "    factors = []\n",
    "    divisor = 2\n",
    "    while(divisor <= n): #while loop continues to iterate for as long as divisor is less than the input number\n",
    "        if (n % divisor) == 0:\n",
    "            factors.append(divisor)\n",
    "            n = n/divisor\n",
    "        else:\n",
    "            divisor += 1\n",
    "    return factors\n",
    "    \n",
    "get_prime_factors(994509384059835)"
   ]
  },
  {
   "cell_type": "markdown",
   "metadata": {},
   "source": [
    "2. Write a python function that determines if a given string is a palindrome\n",
    "\n",
    "Notes:\n",
    "- input: string to evaluate\n",
    "- output: Boolean value\n",
    "- only consider letters a-z, ignore case"
   ]
  },
  {
   "cell_type": "code",
   "execution_count": 20,
   "metadata": {},
   "outputs": [
    {
     "data": {
      "text/plain": [
       "True"
      ]
     },
     "execution_count": 20,
     "metadata": {},
     "output_type": "execute_result"
    }
   ],
   "source": [
    "# first solution that works but only with very short palindromes\n",
    "\n",
    "def palindrome(words:str)->bool:\n",
    "    if words[0] == words[-1] and words[1]==words[-2]:\n",
    "        return True\n",
    "    else:\n",
    "        return False\n",
    "\n",
    "palindrome(\"hannddkldjsflah\")"
   ]
  },
  {
   "cell_type": "code",
   "execution_count": 25,
   "metadata": {},
   "outputs": [
    {
     "data": {
      "text/plain": [
       "True"
      ]
     },
     "execution_count": 25,
     "metadata": {},
     "output_type": "execute_result"
    }
   ],
   "source": [
    "# solution\n",
    "\n",
    "import re #regular expressions module\n",
    "\n",
    "def palindrome(words:str)->bool:\n",
    "    \"\"\"\n",
    "    define forwards as the word in the forward direction by \n",
    "    making an empty string\n",
    "    using the join method\n",
    "    use .lower() method to make not case sensitive\n",
    "    using the findall function from the re module to find all matches with the word to the pattern '[a-z]'\n",
    "    define backwards with the stride set to negative 1 to give a copy of the word backwards\n",
    "    \"\"\"\n",
    "    forwards = ''.join(re.findall(r'[a-z]+', words.lower()))\n",
    "    backwards = forwards[::-1]\n",
    "    return forwards == backwards\n",
    "\n",
    "palindrome(\"Hannah\")\n",
    "palindrome(\"Test\")\n",
    "palindrome(\"abcdefedcba\")"
   ]
  },
  {
   "cell_type": "markdown",
   "metadata": {},
   "source": [
    "3. Write a Python function to sort the words in a string\n",
    "\n",
    "Notes\n",
    "- input: string of words, separated by spaces\n",
    "- output: string of words, sorted alphabetically"
   ]
  },
  {
   "cell_type": "code",
   "execution_count": null,
   "metadata": {},
   "outputs": [],
   "source": []
  }
 ],
 "metadata": {
  "kernelspec": {
   "display_name": "Python 3",
   "language": "python",
   "name": "python3"
  },
  "language_info": {
   "codemirror_mode": {
    "name": "ipython",
    "version": 3
   },
   "file_extension": ".py",
   "mimetype": "text/x-python",
   "name": "python",
   "nbconvert_exporter": "python",
   "pygments_lexer": "ipython3",
   "version": "3.7.1"
  }
 },
 "nbformat": 4,
 "nbformat_minor": 2
}
